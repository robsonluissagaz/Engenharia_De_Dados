{
 "cells": [
  {
   "cell_type": "code",
   "execution_count": null,
   "id": "02fef898",
   "metadata": {},
   "outputs": [],
   "source": [
    "#Importações\n",
    "import pandas as pd"
   ]
  },
  {
   "cell_type": "code",
   "execution_count": null,
   "id": "55afc83f",
   "metadata": {},
   "outputs": [],
   "source": [
    "#Passando os dados do arquivo train.csv para um DataFrame\n",
    "df = pd.read_csv('train.csv')"
   ]
  },
  {
   "cell_type": "code",
   "execution_count": null,
   "id": "18fcef5a",
   "metadata": {},
   "outputs": [],
   "source": [
    "#Renomeando as colunas\n",
    "df.columns = ['IdPassageiro', 'Sobreviveu', 'Classe', 'Nome', 'Sexo', 'Idade', 'IrmaosConjuge',\n",
    "       'PaisFilhos', 'Bilhete', 'Tarifa', 'Cabine', 'PortaoEmbarque']"
   ]
  },
  {
   "cell_type": "code",
   "execution_count": null,
   "id": "c015bb9c",
   "metadata": {},
   "outputs": [],
   "source": [
    "'''Tratando os dados do tipo string e object em letras maiúscula para melhor resultados em pesquisas\n",
    "O método map faz um mapeamento por todo o DataFrame utilizando a função lambda que percorre as colunas\n",
    "e quando itendifica uma coluna do tipo STR ou OBJECT ela faz o tratamento.\n",
    "Se o valor não está nas características desejada o else faz deixar como está'''\n",
    "df = df.map(lambda x: x.upper().strip() if isinstance(x, str or object) else x)"
   ]
  },
  {
   "cell_type": "code",
   "execution_count": null,
   "id": "5afdcc79",
   "metadata": {},
   "outputs": [],
   "source": [
    "#Formatando a coluna Tarifa para duas casas decimais\n",
    "df['Tarifa'] = df['Tarifa'].round(2)"
   ]
  },
  {
   "cell_type": "code",
   "execution_count": null,
   "id": "0dc33ad7",
   "metadata": {},
   "outputs": [],
   "source": [
    "#Calculando a média de tarifa e arredondando o valor\n",
    "df['Tarifa'].mean().round()"
   ]
  },
  {
   "cell_type": "code",
   "execution_count": null,
   "id": "280fe22f",
   "metadata": {},
   "outputs": [],
   "source": [
    "'''Calculando a média de tarifa de uma forma 'manual somando todos os valores da coluna tarida\n",
    "e dividindo com o tamanho de indexes da mesma coluna'''\n",
    "(df['Tarifa'].sum() / len(df['Tarifa'])).round()"
   ]
  },
  {
   "cell_type": "code",
   "execution_count": null,
   "id": "472f8376",
   "metadata": {},
   "outputs": [],
   "source": [
    "#Calculando a média de idade e arredondando\n",
    "df['Idade'].mean().round()"
   ]
  },
  {
   "cell_type": "code",
   "execution_count": null,
   "id": "e1c66e76",
   "metadata": {},
   "outputs": [],
   "source": [
    "#Identificando o maior valor da coluna Idade com iloc\n",
    "df['Idade'].iloc[df['Idade'].idxmax()]"
   ]
  },
  {
   "cell_type": "code",
   "execution_count": null,
   "id": "63cf350d",
   "metadata": {},
   "outputs": [],
   "source": [
    "#Obtendo os dados do index do maior valor da coluna Idade utilizando loc\n",
    "df[['Nome', 'Idade', 'Sexo', 'Classe', 'Sobreviveu']].loc[df['Idade'].idxmax()]"
   ]
  },
  {
   "cell_type": "code",
   "execution_count": null,
   "id": "e1bb03fd",
   "metadata": {},
   "outputs": [],
   "source": [
    "\"\"\"Traduzindo os valores de uma coluna utilizando a função replace para fazer amudança no DataFrame. \n",
    "Funcionaria também da seguinte maneira:\n",
    "df['Sexo'] = df['Sexo'].map({'FEMALE':'FEMININO', 'MALE':'MASCULINO'})\n",
    "O que eu faço é basicamente por exemplo: Buscar os valores 'FEMALE' na coluna e mudar para 'FEMININO' e da mesma forma\n",
    "para o 'MALE' transformando em 'MASCULINO'.\"\"\"\n",
    "df['Sexo'] = df['Sexo'].replace({'FEMALE': 'FEMININO', 'MALE':'MASCULINO'})"
   ]
  },
  {
   "cell_type": "code",
   "execution_count": null,
   "id": "709391b1",
   "metadata": {},
   "outputs": [],
   "source": [
    "'''Este código é somente para efeito de visualização.\n",
    "Mas com este exemplo podemos fazer alterações para dois valores e transforma-los em um.'''\n",
    "df['Sexo'].replace(['FEMININO','MASCULINO'], 'PESSOA')"
   ]
  },
  {
   "cell_type": "code",
   "execution_count": null,
   "id": "829db826",
   "metadata": {},
   "outputs": [],
   "source": [
    "\"\"\"Aqui estamos agrupando colunas utilizando a função groupby e exibindo estatísticas baseadas nas colunas\n",
    "mencionadas dentro do groupby e passando como parâmetro numeric_only=True dentro da função mean para mapear\n",
    "somente as colunas que possuem valores que possibilitan cálculo mesmo que o seu cálculo não tenha uma\n",
    "visualização interessante por exemplo as colunas IdPassageiro, classe, IrmaosConjuge e PaisFilhos.\n",
    "Com a exibição deste dados nas colunas que mais fazem sentido podemos observar:\n",
    "Taxa de sobrevivência para o sexo FEMININO = 74%\n",
    "Texa de sobrevivência para o sexo MASCULINO = 18-19%\n",
    "Média da idade das mulheres a bordo = 23\n",
    "Média da idade dos homens a bordo = 24\n",
    "Média de tarifa paga das mulheres = ₤44\n",
    "Média de tarifa paga dos homens = ₤25\"\"\"\n",
    "#Exibindo a média das colunas numéricas agrupadas por sexo\n",
    "df.groupby('Sexo').mean(numeric_only=True)"
   ]
  },
  {
   "cell_type": "code",
   "execution_count": null,
   "id": "81ac37f5",
   "metadata": {},
   "outputs": [],
   "source": [
    "\"\"\"Esta visualização é agrupada por duas colunas (Sexo e Classe) onde é criado dois blocos (FEMININO e MASCULINO)\n",
    "e dentro de cada bloco são distribuidos os valores por classe, logo podemos visualizar os dados da seguinte forma:\n",
    "96-97% das mulheres de 1ª classe sobreviveram\n",
    "92% das mulheres de 2ª classe sobreviveram\n",
    "50% das mulheres de 3ª classe sobreviveram\n",
    "-=-=-=-=-=-=-=-=-=-=-=-=-=-=-=-=-=-=-=-=-=-=\n",
    "36-37% dos homens de 1ª classe sobreviveram\n",
    "15-16% dos homens de 2ª classe sobreviveram\n",
    "13% dos homens de 3ª classe sobreviveram\"\"\"\n",
    "df.groupby(['Sexo','Classe']).mean(numeric_only=True)"
   ]
  },
  {
   "cell_type": "code",
   "execution_count": null,
   "id": "bb0912ed",
   "metadata": {},
   "outputs": [],
   "source": [
    "\"\"\"Uma das mulhores visualçizações dos dados é feita com o crosstab onde passamos por parâmetro 2 colunas para\n",
    "os dados de ambas se cruzarem e gerar um quadro de vizualização. Sendo assim podemos destacar:\n",
    "De 216 pessoas de 1ª classe 80 morreram e 136 sobreviveram\n",
    "De 184 pessoas de 2ª classe 97 morreram e 87 sobreviveram\n",
    "De 491 pessoas de 3ª classe 372 morreram e 119 sobreviveram\n",
    "A coluna vertical All define que de 891 pessoas 549 morreram e de 891 pessoas 342 pessoas sobreviveram\"\"\"\n",
    "pd.crosstab(df['Sobreviveu'], df['Classe'], margins=True)"
   ]
  },
  {
   "cell_type": "code",
   "execution_count": null,
   "id": "cf97e658",
   "metadata": {},
   "outputs": [],
   "source": [
    "\"\"\"Exemplificando novamente com as colunas Sobreviveu e Sexo destacando que:\n",
    "De 314 mulheres 81 morreram e 233 sobreviveram\n",
    "De 577 homens 468 morreram e 109 sobreviveram\n",
    "\"\"\"\n",
    "pd.crosstab(df['Sobreviveu'], df['Sexo'], margins=True)"
   ]
  },
  {
   "cell_type": "code",
   "execution_count": null,
   "id": "d4781302",
   "metadata": {},
   "outputs": [],
   "source": [
    "\"\"\"Um tipo de visualização básica também é utilizando o sort_values para visualizar os dados com base na\n",
    "ordem da coluna escolhida passada no parâmetro da função sort_values, neste caso Idade:\"\"\"\n",
    "df[['Nome', 'Classe', 'Idade', 'Sexo', 'Sobreviveu']].sort_values('Idade', ascending=True)"
   ]
  },
  {
   "cell_type": "code",
   "execution_count": null,
   "id": "dad6648c",
   "metadata": {},
   "outputs": [],
   "source": [
    "\"\"\"Outra visualização básica também é utilizando o sort_index que simplesmente vai organizar os indexes\n",
    "passando como parâmetro ascending=False para mostrar do último valor para o primeiro\"\"\"\n",
    "df[['Nome', 'Classe', 'Idade', 'Sexo', 'Sobreviveu']].sort_index(ascending=False)"
   ]
  },
  {
   "cell_type": "code",
   "execution_count": null,
   "id": "2deb79a7",
   "metadata": {},
   "outputs": [],
   "source": [
    "\"\"\"Uma das principais formas de verificar inconsistência nos dados é usando a função isnull()\n",
    "isso retornará resultados booleanos(False ou True) sendo False para um dado que não está incompleto e\n",
    "True quando se trata de um dado incompleto.\"\"\"\n",
    "df.isnull()"
   ]
  },
  {
   "cell_type": "code",
   "execution_count": null,
   "id": "e4237817",
   "metadata": {},
   "outputs": [],
   "source": [
    "\"\"\"Uma forma mais acertiva para verificar de um modo mais amplo e verificar dados que estão faltando,\n",
    "é utilizar além da função isnull é utilizando também a função sum() que retornará uma lista númerica com\n",
    "as somas de cada coluna para os dados faltantes. Reparamos então:\n",
    "Na coluna Idade 177 dados em falta\n",
    "Na coluna Cabine 687 dados em falta\n",
    "Na coluna PortaoEmbarque 2 dados em falta\n",
    "Para um modelo preditivo uma coluna com muitos dados em falta pode ser prejudicial para os resultados,\n",
    "sendo assim aconselhado em não utilizar esta coluna em comparações e simulações, neste caso a coluna\n",
    "PortaoEmbarque.\"\"\"\n",
    "df.isnull().sum()"
   ]
  },
  {
   "cell_type": "code",
   "execution_count": null,
   "id": "cd7ef219",
   "metadata": {},
   "outputs": [],
   "source": [
    "\"\"\"Dentro do isnull além de fazer a visualização de todo o DataFrame podemos utilizar para uma\n",
    "coluna específica:\"\"\"\n",
    "df['PortaoEmbarque'].isnull()"
   ]
  },
  {
   "cell_type": "code",
   "execution_count": null,
   "id": "61026ccf",
   "metadata": {},
   "outputs": [],
   "source": [
    "\"\"\"Com df['Coluna'].isnull podemos fazer a leitura direta dos index juntamente com a função loc,\n",
    "observando entao que o index 61 e o index 829 são os indexes responsáveis pelos dados faltantes.\"\"\"\n",
    "df.loc[df['PortaoEmbarque'].isnull()]"
   ]
  },
  {
   "cell_type": "code",
   "execution_count": null,
   "id": "003d425c",
   "metadata": {},
   "outputs": [],
   "source": [
    "\"\"\"Uma forma de analisar a estrutura dos dados de uma coluna é utilizando a função unique() que\n",
    "tratá os valores únicos da respectiva coluna por exemplo:\n",
    "Queremos tratar esses 2 dados faltantes da coluna PortaoEmbarque e queremos saber os valores que estão\n",
    "disponíveis nesta coluna. Aplicando da seguinta maneira: df['PortaoEmbarque'].unique():\n",
    "Teremos então a visão de que nesta coluna os valores que ocorrem são:\n",
    "S, C, Q, nan. Isso significa que podemos substituir os valores faltantes por S, C ou Q.\"\"\"\n",
    "df['PortaoEmbarque'].unique()"
   ]
  },
  {
   "cell_type": "code",
   "execution_count": 34,
   "id": "dc9d32fc",
   "metadata": {},
   "outputs": [
    {
     "data": {
      "text/plain": [
       "0    S\n",
       "Name: PortaoEmbarque, dtype: object"
      ]
     },
     "execution_count": 34,
     "metadata": {},
     "output_type": "execute_result"
    }
   ],
   "source": [
    "\"\"\"Uma forma comum para podermos apontar o dado a ser preenchido é utilizando a função mode() que\n",
    "identifica o valor na coluna que mais ocorre. A linha de código df['PortaoEmbarque'].mode() nos retorna:\n",
    "S, assim sabemos agora que a maioria das pessoas que embarcaram no Titanic utilizaram o portão de embarque S.\"\"\"\n",
    "df['PortaoEmbarque'].mode()"
   ]
  },
  {
   "cell_type": "code",
   "execution_count": null,
   "id": "6c013c8a",
   "metadata": {},
   "outputs": [
    {
     "data": {
      "text/html": [
       "<div>\n",
       "<style scoped>\n",
       "    .dataframe tbody tr th:only-of-type {\n",
       "        vertical-align: middle;\n",
       "    }\n",
       "\n",
       "    .dataframe tbody tr th {\n",
       "        vertical-align: top;\n",
       "    }\n",
       "\n",
       "    .dataframe thead th {\n",
       "        text-align: right;\n",
       "    }\n",
       "</style>\n",
       "<table border=\"1\" class=\"dataframe\">\n",
       "  <thead>\n",
       "    <tr style=\"text-align: right;\">\n",
       "      <th></th>\n",
       "      <th>Nome</th>\n",
       "      <th>Sexo</th>\n",
       "      <th>Bilhete</th>\n",
       "      <th>Cabine</th>\n",
       "      <th>PortaoEmbarque</th>\n",
       "    </tr>\n",
       "  </thead>\n",
       "  <tbody>\n",
       "    <tr>\n",
       "      <th>count</th>\n",
       "      <td>891</td>\n",
       "      <td>891</td>\n",
       "      <td>891</td>\n",
       "      <td>204</td>\n",
       "      <td>889</td>\n",
       "    </tr>\n",
       "    <tr>\n",
       "      <th>unique</th>\n",
       "      <td>891</td>\n",
       "      <td>2</td>\n",
       "      <td>681</td>\n",
       "      <td>147</td>\n",
       "      <td>3</td>\n",
       "    </tr>\n",
       "    <tr>\n",
       "      <th>top</th>\n",
       "      <td>DOOLEY, MR. PATRICK</td>\n",
       "      <td>MASCULINO</td>\n",
       "      <td>347082</td>\n",
       "      <td>G6</td>\n",
       "      <td>S</td>\n",
       "    </tr>\n",
       "    <tr>\n",
       "      <th>freq</th>\n",
       "      <td>1</td>\n",
       "      <td>577</td>\n",
       "      <td>7</td>\n",
       "      <td>4</td>\n",
       "      <td>644</td>\n",
       "    </tr>\n",
       "  </tbody>\n",
       "</table>\n",
       "</div>"
      ],
      "text/plain": [
       "                       Nome       Sexo Bilhete Cabine PortaoEmbarque\n",
       "count                   891        891     891    204            889\n",
       "unique                  891          2     681    147              3\n",
       "top     DOOLEY, MR. PATRICK  MASCULINO  347082     G6              S\n",
       "freq                      1        577       7      4            644"
      ]
     },
     "execution_count": 39,
     "metadata": {},
     "output_type": "execute_result"
    }
   ],
   "source": [
    "\"\"\"Uma forma visual para podermos comparar os dados de um Data Frame e seus atributos é utilizando a função\n",
    "describe() que nos retornará descrições como: count, unique, top, freq. dentro da função devemos passar oque\n",
    "será incluso nesta visualização, neste caso estou passando include='O' para incluir as coluna de tipo String/\n",
    "Object.\n",
    "Observamos então que:\n",
    "Temos uma contagem de 889(+2 por conta dos dados em branco) pessoas que embarcaram\n",
    "3 valores unicos(unique) que são os portões S, C e Q\n",
    "O portão S é identificado como top pois é ele que mais ocorre na coluna\n",
    "O portão S identificado como freq indica que ele tem uma frequência de 644 ocorrências de 891 pessoas que\n",
    "embarcaram. Ou seja, definitivamente podemos supor que os dados faltantes podem ser alocados no portão S.\"\"\"\n",
    "df.describe(include='O')"
   ]
  },
  {
   "cell_type": "code",
   "execution_count": null,
   "id": "53aaa23d",
   "metadata": {},
   "outputs": [],
   "source": []
  }
 ],
 "metadata": {
  "kernelspec": {
   "display_name": "Python 3",
   "language": "python",
   "name": "python3"
  },
  "language_info": {
   "codemirror_mode": {
    "name": "ipython",
    "version": 3
   },
   "file_extension": ".py",
   "mimetype": "text/x-python",
   "name": "python",
   "nbconvert_exporter": "python",
   "pygments_lexer": "ipython3",
   "version": "3.13.0"
  }
 },
 "nbformat": 4,
 "nbformat_minor": 5
}
