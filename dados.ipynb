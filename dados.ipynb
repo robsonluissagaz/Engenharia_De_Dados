{
 "cells": [
  {
   "cell_type": "code",
   "execution_count": 1,
   "id": "02fef898",
   "metadata": {},
   "outputs": [],
   "source": [
    "#Importações\n",
    "import pandas as pd"
   ]
  },
  {
   "cell_type": "code",
   "execution_count": 2,
   "id": "55afc83f",
   "metadata": {},
   "outputs": [],
   "source": [
    "#Passando os dados do arquivo train.csv para um DataFrame\n",
    "df = pd.read_csv('train.csv')"
   ]
  },
  {
   "cell_type": "code",
   "execution_count": 3,
   "id": "18fcef5a",
   "metadata": {},
   "outputs": [],
   "source": [
    "#Renomeando as colunas\n",
    "df.columns = ['IdPassageiro', 'Sobreviveu', 'Classe', 'Nome', 'Sexo', 'Idade', 'IrmaosConjuge',\n",
    "       'PaisFilhos', 'Bilhete', 'Tarifa', 'Cabine', 'PortaoEmbarque']"
   ]
  },
  {
   "cell_type": "code",
   "execution_count": 4,
   "id": "c015bb9c",
   "metadata": {},
   "outputs": [],
   "source": [
    "'''Tratando os dados do tipo string e object em letras maiúscula para melhor resultados em pesquisas\n",
    "O método map faz um mapeamento por todo o DataFrame utilizando a função lambda que percorre as colunas\n",
    "e quando itendifica uma coluna do tipo STR ou OBJECT ela faz o tratamento.\n",
    "Se o valor não está nas características desejada o else faz deixar como está'''\n",
    "df = df.map(lambda x: x.upper().strip() if isinstance(x, str or object) else x)"
   ]
  },
  {
   "cell_type": "code",
   "execution_count": 5,
   "id": "5afdcc79",
   "metadata": {},
   "outputs": [],
   "source": [
    "#Formatando a coluna Tarifa para duas casas decimais\n",
    "df['Tarifa'] = df['Tarifa'].round(2)"
   ]
  },
  {
   "cell_type": "code",
   "execution_count": 6,
   "id": "2a468215",
   "metadata": {},
   "outputs": [],
   "source": [
    "#Preenchendo a coluna idade para os valores  Null e formatando a coluna para valores inteiros\n",
    "df['Idade'] = df['Idade'].fillna(0)\n",
    "df['Idade'] = df['Idade'].astype(int)"
   ]
  },
  {
   "cell_type": "code",
   "execution_count": 7,
   "id": "0dc33ad7",
   "metadata": {},
   "outputs": [
    {
     "data": {
      "text/plain": [
       "np.float64(32.0)"
      ]
     },
     "execution_count": 7,
     "metadata": {},
     "output_type": "execute_result"
    }
   ],
   "source": [
    "#Calculando a média de tarifa e arredondando o valor\n",
    "df['Tarifa'].mean().round()"
   ]
  },
  {
   "cell_type": "code",
   "execution_count": 8,
   "id": "280fe22f",
   "metadata": {},
   "outputs": [
    {
     "data": {
      "text/plain": [
       "np.float64(32.0)"
      ]
     },
     "execution_count": 8,
     "metadata": {},
     "output_type": "execute_result"
    }
   ],
   "source": [
    "'''Calculando a média de tarifa de uma forma 'manual somando todos os valores da coluna tarida\n",
    "e dividindo com o tamanho de indexes da mesma coluna'''\n",
    "(df['Tarifa'].sum() / len(df['Tarifa'])).round()"
   ]
  },
  {
   "cell_type": "code",
   "execution_count": 9,
   "id": "472f8376",
   "metadata": {},
   "outputs": [
    {
     "data": {
      "text/plain": [
       "np.float64(24.0)"
      ]
     },
     "execution_count": 9,
     "metadata": {},
     "output_type": "execute_result"
    }
   ],
   "source": [
    "#Calculando a média de idade e arredondando\n",
    "df['Idade'].mean().round()"
   ]
  },
  {
   "cell_type": "code",
   "execution_count": 10,
   "id": "e1c66e76",
   "metadata": {},
   "outputs": [
    {
     "data": {
      "text/plain": [
       "np.int64(80)"
      ]
     },
     "execution_count": 10,
     "metadata": {},
     "output_type": "execute_result"
    }
   ],
   "source": [
    "#Identificando o maior valor da coluna Idade com iloc\n",
    "df['Idade'].iloc[df['Idade'].idxmax()]"
   ]
  },
  {
   "cell_type": "code",
   "execution_count": 11,
   "id": "63cf350d",
   "metadata": {},
   "outputs": [
    {
     "data": {
      "text/plain": [
       "Nome          BARKWORTH, MR. ALGERNON HENRY WILSON\n",
       "Idade                                           80\n",
       "Sexo                                          MALE\n",
       "Classe                                           1\n",
       "Sobreviveu                                       1\n",
       "Name: 630, dtype: object"
      ]
     },
     "execution_count": 11,
     "metadata": {},
     "output_type": "execute_result"
    }
   ],
   "source": [
    "#Obtendo os dados do index do maior valor da coluna Idade utilizando loc\n",
    "df[['Nome', 'Idade', 'Sexo', 'Classe', 'Sobreviveu']].loc[df['Idade'].idxmax()]"
   ]
  },
  {
   "cell_type": "code",
   "execution_count": null,
   "id": "e1bb03fd",
   "metadata": {},
   "outputs": [],
   "source": [
    "\"\"\"Traduzindo os valores de uma coluna utilizando a combinação da função replace com o método inplace=True para forçar\n",
    "a mudança no DataFrame funcionaria também da seguinte maneira:\n",
    "df['Sexo'] = df['Sexo'].replace({'FEMALE': 'FEMININO', 'MALE':'MASCULINO'})\n",
    "O que eu faço é basicamente por exemplo: Buscar os valores 'FEMALE' na coluna e mudar para 'FEMININO' e da mesma forma\n",
    "para o 'MALE' transformando em 'MASCULINO'.\"\"\"\n",
    "df['Sexo'].replace({'FEMALE': 'FEMININO', 'MALE':'MASCULINO'}, inplace=True)"
   ]
  }
 ],
 "metadata": {
  "kernelspec": {
   "display_name": "Python 3",
   "language": "python",
   "name": "python3"
  },
  "language_info": {
   "codemirror_mode": {
    "name": "ipython",
    "version": 3
   },
   "file_extension": ".py",
   "mimetype": "text/x-python",
   "name": "python",
   "nbconvert_exporter": "python",
   "pygments_lexer": "ipython3",
   "version": "3.13.1"
  }
 },
 "nbformat": 4,
 "nbformat_minor": 5
}
