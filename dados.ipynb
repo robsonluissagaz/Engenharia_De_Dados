{
 "cells": [
  {
   "cell_type": "code",
   "execution_count": null,
   "id": "02fef898",
   "metadata": {},
   "outputs": [],
   "source": [
    "#Importações\n",
    "import pandas as pd"
   ]
  },
  {
   "cell_type": "code",
   "execution_count": null,
   "id": "55afc83f",
   "metadata": {},
   "outputs": [],
   "source": [
    "#Passando os dados do arquivo train.csv para um DataFrame\n",
    "df = pd.read_csv('train.csv')"
   ]
  },
  {
   "cell_type": "code",
   "execution_count": null,
   "id": "18fcef5a",
   "metadata": {},
   "outputs": [],
   "source": [
    "#Renomeando as colunas\n",
    "df.columns = ['IdPassageiro', 'Sobreviveu', 'Classe', 'Nome', 'Sexo', 'Idade', 'IrmaosConjuge',\n",
    "       'PaisFilhos', 'Bilhete', 'Tarifa', 'Cabine', 'PortaoEmbarque']"
   ]
  },
  {
   "cell_type": "code",
   "execution_count": null,
   "id": "c015bb9c",
   "metadata": {},
   "outputs": [],
   "source": [
    "'''Tratando os dados do tipo string e object em letras maiúscula para melhor resultados em pesquisas\n",
    "O método map faz um mapeamento por todo o DataFrame utilizando a função lambda que percorre as colunas\n",
    "e quando itendifica uma coluna do tipo STR ou OBJECT ela faz o tratamento.\n",
    "Se o valor não está nas características desejada o else faz deixar como está'''\n",
    "df = df.map(lambda x: x.upper().strip() if isinstance(x, str or object) else x)"
   ]
  },
  {
   "cell_type": "code",
   "execution_count": null,
   "id": "5afdcc79",
   "metadata": {},
   "outputs": [],
   "source": [
    "#Formatando a coluna Tarifa para duas casas decimais\n",
    "df['Tarifa'] = df['Tarifa'].round(2)"
   ]
  },
  {
   "cell_type": "code",
   "execution_count": null,
   "id": "2a468215",
   "metadata": {},
   "outputs": [],
   "source": [
    "#Preenchendo a coluna idade para os valores  Null e formatando a coluna para valores inteiros\n",
    "df['Idade'] = df['Idade'].fillna(0)\n",
    "df['Idade'] = df['Idade'].astype(int)"
   ]
  },
  {
   "cell_type": "code",
   "execution_count": null,
   "id": "0dc33ad7",
   "metadata": {},
   "outputs": [],
   "source": [
    "#Calculando a média de tarifa e arredondando o valor\n",
    "df['Tarifa'].mean().round()"
   ]
  },
  {
   "cell_type": "code",
   "execution_count": null,
   "id": "280fe22f",
   "metadata": {},
   "outputs": [],
   "source": [
    "'''Calculando a média de tarifa de uma forma 'manual somando todos os valores da coluna tarida\n",
    "e dividindo com o tamanho de indexes da mesma coluna'''\n",
    "(df['Tarifa'].sum() / len(df['Tarifa'])).round()"
   ]
  },
  {
   "cell_type": "code",
   "execution_count": null,
   "id": "472f8376",
   "metadata": {},
   "outputs": [],
   "source": [
    "#Calculando a média de idade e arredondando\n",
    "df['Idade'].mean().round()"
   ]
  },
  {
   "cell_type": "code",
   "execution_count": null,
   "id": "e1c66e76",
   "metadata": {},
   "outputs": [],
   "source": [
    "#Identificando o maior valor da coluna Idade com iloc\n",
    "df['Idade'].iloc[df['Idade'].idxmax()]"
   ]
  },
  {
   "cell_type": "code",
   "execution_count": null,
   "id": "63cf350d",
   "metadata": {},
   "outputs": [],
   "source": [
    "#Obtendo os dados do index do maior valor da coluna Idade utilizando loc\n",
    "df[['Nome', 'Idade', 'Sexo', 'Classe', 'Sobreviveu']].loc[df['Idade'].idxmax()]"
   ]
  },
  {
   "cell_type": "code",
   "execution_count": null,
   "id": "e1bb03fd",
   "metadata": {},
   "outputs": [],
   "source": [
    "\"\"\"Traduzindo os valores de uma coluna utilizando a função replace para fazer amudança no DataFrame. \n",
    "Funcionaria também da seguinte maneira:\n",
    "df['Sexo'] = df['Sexo'].map({'FEMALE':'FEMININO', 'MALE':'MASCULINO'})\n",
    "O que eu faço é basicamente por exemplo: Buscar os valores 'FEMALE' na coluna e mudar para 'FEMININO' e da mesma forma\n",
    "para o 'MALE' transformando em 'MASCULINO'.\"\"\"\n",
    "df['Sexo'] = df['Sexo'].replace({'FEMALE': 'FEMININO', 'MALE':'MASCULINO'})"
   ]
  },
  {
   "cell_type": "code",
   "execution_count": null,
   "id": "709391b1",
   "metadata": {},
   "outputs": [],
   "source": [
    "'''Este código é somente para efeito de visualização.\n",
    "Mas com este exemplo podemos fazer alterações para dois valores e transforma-los em um.'''\n",
    "df['Sexo'].replace(['FEMININO','MASCULINO'], 'PESSOA')"
   ]
  },
  {
   "cell_type": "code",
   "execution_count": null,
   "id": "829db826",
   "metadata": {},
   "outputs": [
    {
     "data": {
      "text/html": [
       "<div>\n",
       "<style scoped>\n",
       "    .dataframe tbody tr th:only-of-type {\n",
       "        vertical-align: middle;\n",
       "    }\n",
       "\n",
       "    .dataframe tbody tr th {\n",
       "        vertical-align: top;\n",
       "    }\n",
       "\n",
       "    .dataframe thead th {\n",
       "        text-align: right;\n",
       "    }\n",
       "</style>\n",
       "<table border=\"1\" class=\"dataframe\">\n",
       "  <thead>\n",
       "    <tr style=\"text-align: right;\">\n",
       "      <th></th>\n",
       "      <th>IdPassageiro</th>\n",
       "      <th>Sobreviveu</th>\n",
       "      <th>Classe</th>\n",
       "      <th>Idade</th>\n",
       "      <th>IrmaosConjuge</th>\n",
       "      <th>PaisFilhos</th>\n",
       "      <th>Tarifa</th>\n",
       "    </tr>\n",
       "    <tr>\n",
       "      <th>Sexo</th>\n",
       "      <th></th>\n",
       "      <th></th>\n",
       "      <th></th>\n",
       "      <th></th>\n",
       "      <th></th>\n",
       "      <th></th>\n",
       "      <th></th>\n",
       "    </tr>\n",
       "  </thead>\n",
       "  <tbody>\n",
       "    <tr>\n",
       "      <th>FEMININO</th>\n",
       "      <td>431.028662</td>\n",
       "      <td>0.742038</td>\n",
       "      <td>2.159236</td>\n",
       "      <td>23.194268</td>\n",
       "      <td>0.694268</td>\n",
       "      <td>0.649682</td>\n",
       "      <td>44.479936</td>\n",
       "    </tr>\n",
       "    <tr>\n",
       "      <th>MASCULINO</th>\n",
       "      <td>454.147314</td>\n",
       "      <td>0.188908</td>\n",
       "      <td>2.389948</td>\n",
       "      <td>24.103986</td>\n",
       "      <td>0.429809</td>\n",
       "      <td>0.235702</td>\n",
       "      <td>25.524073</td>\n",
       "    </tr>\n",
       "  </tbody>\n",
       "</table>\n",
       "</div>"
      ],
      "text/plain": [
       "           IdPassageiro  Sobreviveu    Classe      Idade  IrmaosConjuge  \\\n",
       "Sexo                                                                      \n",
       "FEMININO     431.028662    0.742038  2.159236  23.194268       0.694268   \n",
       "MASCULINO    454.147314    0.188908  2.389948  24.103986       0.429809   \n",
       "\n",
       "           PaisFilhos     Tarifa  \n",
       "Sexo                              \n",
       "FEMININO     0.649682  44.479936  \n",
       "MASCULINO    0.235702  25.524073  "
      ]
     },
     "execution_count": 35,
     "metadata": {},
     "output_type": "execute_result"
    }
   ],
   "source": [
    "\"\"\"Aqui estamos agrupando colunas utilizando a função groupby e exibindo estatísticas baseadas nas colunas\n",
    "mencionadas dentro do groupby e passando como parâmetro numeric_only=True dentro da função mean para mapear\n",
    "somente as colunas que possuem valores que possibilitan cálculo mesmo que o seu cálculo não tenha uma\n",
    "visualização interessante por exemplo as colunas IdPassageiro, classe, IrmaosConjuge e PaisFilhos.\n",
    "Com a exibição deste dados nas colunas que mais fazem sentido podemos observar:\n",
    "Taxa de sobrevivência para o sexo FEMININO = 74%\n",
    "Texa de sobrevivência para o sexo MASCULINO = 18-19%\n",
    "Média da idade das mulheres a bordo = 23\n",
    "Média da idade dos homens a bordo = 24\n",
    "Média de tarifa paga das mulheres = ₤44\n",
    "Média de tarifa paga dos homens = ₤25\"\"\"\n",
    "#Exibindo a média das colunas numéricas agrupadas por sexo\n",
    "df.groupby('Sexo').mean(numeric_only=True)"
   ]
  },
  {
   "cell_type": "code",
   "execution_count": null,
   "id": "81ac37f5",
   "metadata": {},
   "outputs": [
    {
     "data": {
      "text/html": [
       "<div>\n",
       "<style scoped>\n",
       "    .dataframe tbody tr th:only-of-type {\n",
       "        vertical-align: middle;\n",
       "    }\n",
       "\n",
       "    .dataframe tbody tr th {\n",
       "        vertical-align: top;\n",
       "    }\n",
       "\n",
       "    .dataframe thead th {\n",
       "        text-align: right;\n",
       "    }\n",
       "</style>\n",
       "<table border=\"1\" class=\"dataframe\">\n",
       "  <thead>\n",
       "    <tr style=\"text-align: right;\">\n",
       "      <th></th>\n",
       "      <th></th>\n",
       "      <th>IdPassageiro</th>\n",
       "      <th>Sobreviveu</th>\n",
       "      <th>Idade</th>\n",
       "      <th>IrmaosConjuge</th>\n",
       "      <th>PaisFilhos</th>\n",
       "      <th>Tarifa</th>\n",
       "    </tr>\n",
       "    <tr>\n",
       "      <th>Sexo</th>\n",
       "      <th>Classe</th>\n",
       "      <th></th>\n",
       "      <th></th>\n",
       "      <th></th>\n",
       "      <th></th>\n",
       "      <th></th>\n",
       "      <th></th>\n",
       "    </tr>\n",
       "  </thead>\n",
       "  <tbody>\n",
       "    <tr>\n",
       "      <th rowspan=\"3\" valign=\"top\">FEMININO</th>\n",
       "      <th>1</th>\n",
       "      <td>469.212766</td>\n",
       "      <td>0.968085</td>\n",
       "      <td>31.297872</td>\n",
       "      <td>0.553191</td>\n",
       "      <td>0.457447</td>\n",
       "      <td>106.125745</td>\n",
       "    </tr>\n",
       "    <tr>\n",
       "      <th>2</th>\n",
       "      <td>443.105263</td>\n",
       "      <td>0.921053</td>\n",
       "      <td>27.960526</td>\n",
       "      <td>0.486842</td>\n",
       "      <td>0.605263</td>\n",
       "      <td>21.970132</td>\n",
       "    </tr>\n",
       "    <tr>\n",
       "      <th>3</th>\n",
       "      <td>399.729167</td>\n",
       "      <td>0.500000</td>\n",
       "      <td>15.388889</td>\n",
       "      <td>0.895833</td>\n",
       "      <td>0.798611</td>\n",
       "      <td>16.119097</td>\n",
       "    </tr>\n",
       "    <tr>\n",
       "      <th rowspan=\"3\" valign=\"top\">MASCULINO</th>\n",
       "      <th>1</th>\n",
       "      <td>455.729508</td>\n",
       "      <td>0.368852</td>\n",
       "      <td>34.163934</td>\n",
       "      <td>0.311475</td>\n",
       "      <td>0.278689</td>\n",
       "      <td>67.226066</td>\n",
       "    </tr>\n",
       "    <tr>\n",
       "      <th>2</th>\n",
       "      <td>447.962963</td>\n",
       "      <td>0.157407</td>\n",
       "      <td>28.148148</td>\n",
       "      <td>0.342593</td>\n",
       "      <td>0.222222</td>\n",
       "      <td>19.741759</td>\n",
       "    </tr>\n",
       "    <tr>\n",
       "      <th>3</th>\n",
       "      <td>455.515850</td>\n",
       "      <td>0.135447</td>\n",
       "      <td>19.308357</td>\n",
       "      <td>0.498559</td>\n",
       "      <td>0.224784</td>\n",
       "      <td>12.661960</td>\n",
       "    </tr>\n",
       "  </tbody>\n",
       "</table>\n",
       "</div>"
      ],
      "text/plain": [
       "                  IdPassageiro  Sobreviveu      Idade  IrmaosConjuge  \\\n",
       "Sexo      Classe                                                       \n",
       "FEMININO  1         469.212766    0.968085  31.297872       0.553191   \n",
       "          2         443.105263    0.921053  27.960526       0.486842   \n",
       "          3         399.729167    0.500000  15.388889       0.895833   \n",
       "MASCULINO 1         455.729508    0.368852  34.163934       0.311475   \n",
       "          2         447.962963    0.157407  28.148148       0.342593   \n",
       "          3         455.515850    0.135447  19.308357       0.498559   \n",
       "\n",
       "                  PaisFilhos      Tarifa  \n",
       "Sexo      Classe                          \n",
       "FEMININO  1         0.457447  106.125745  \n",
       "          2         0.605263   21.970132  \n",
       "          3         0.798611   16.119097  \n",
       "MASCULINO 1         0.278689   67.226066  \n",
       "          2         0.222222   19.741759  \n",
       "          3         0.224784   12.661960  "
      ]
     },
     "execution_count": 38,
     "metadata": {},
     "output_type": "execute_result"
    }
   ],
   "source": [
    "df.groupby(['Sexo','Classe']).mean(numeric_only=True)"
   ]
  }
 ],
 "metadata": {
  "kernelspec": {
   "display_name": "Python 3",
   "language": "python",
   "name": "python3"
  },
  "language_info": {
   "codemirror_mode": {
    "name": "ipython",
    "version": 3
   },
   "file_extension": ".py",
   "mimetype": "text/x-python",
   "name": "python",
   "nbconvert_exporter": "python",
   "pygments_lexer": "ipython3",
   "version": "3.13.0"
  }
 },
 "nbformat": 4,
 "nbformat_minor": 5
}
